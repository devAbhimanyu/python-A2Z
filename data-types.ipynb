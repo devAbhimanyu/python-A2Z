{
 "cells": [
  {
   "cell_type": "markdown",
   "id": "e29cd49a",
   "metadata": {},
   "source": [
    "## Numbers"
   ]
  },
  {
   "cell_type": "code",
   "execution_count": 5,
   "id": "f04e7672",
   "metadata": {},
   "outputs": [],
   "source": [
    "var_name = 2+1"
   ]
  },
  {
   "cell_type": "code",
   "execution_count": 7,
   "id": "b3f609eb",
   "metadata": {},
   "outputs": [
    {
     "name": "stdout",
     "output_type": "stream",
     "text": [
      "3\n"
     ]
    }
   ],
   "source": [
    "print(var_name)"
   ]
  },
  {
   "cell_type": "code",
   "execution_count": 6,
   "id": "ab52ce56",
   "metadata": {},
   "outputs": [
    {
     "data": {
      "text/plain": [
       "int"
      ]
     },
     "execution_count": 6,
     "metadata": {},
     "output_type": "execute_result"
    }
   ],
   "source": [
    "type(var_name)"
   ]
  },
  {
   "cell_type": "markdown",
   "id": "41198d77",
   "metadata": {},
   "source": [
    "reassigning vairables and checking type again"
   ]
  },
  {
   "cell_type": "code",
   "execution_count": 8,
   "id": "add29a9e",
   "metadata": {},
   "outputs": [],
   "source": [
    "var_name = 2+1.1"
   ]
  },
  {
   "cell_type": "code",
   "execution_count": 9,
   "id": "b6d6a133",
   "metadata": {},
   "outputs": [
    {
     "name": "stdout",
     "output_type": "stream",
     "text": [
      "3.1\n"
     ]
    }
   ],
   "source": [
    "print(var_name)"
   ]
  },
  {
   "cell_type": "code",
   "execution_count": 10,
   "id": "702a2477",
   "metadata": {},
   "outputs": [
    {
     "data": {
      "text/plain": [
       "float"
      ]
     },
     "execution_count": 10,
     "metadata": {},
     "output_type": "execute_result"
    }
   ],
   "source": [
    "type(var_name)"
   ]
  },
  {
   "cell_type": "code",
   "execution_count": 11,
   "id": "d30b3983",
   "metadata": {},
   "outputs": [
    {
     "name": "stdout",
     "output_type": "stream",
     "text": [
      "10.0\n"
     ]
    }
   ],
   "source": [
    "my_income = 100\n",
    "tax_rate = .10\n",
    "my_taxes = my_income * tax_rate\n",
    "print(my_taxes)"
   ]
  },
  {
   "cell_type": "markdown",
   "id": "9c9d7eb9",
   "metadata": {},
   "source": [
    "## Strings"
   ]
  },
  {
   "cell_type": "code",
   "execution_count": 12,
   "id": "2f4adcb9",
   "metadata": {},
   "outputs": [
    {
     "data": {
      "text/plain": [
       "'hello'"
      ]
     },
     "execution_count": 12,
     "metadata": {},
     "output_type": "execute_result"
    }
   ],
   "source": [
    "\"hello\""
   ]
  },
  {
   "cell_type": "code",
   "execution_count": 13,
   "id": "e6d2ade6",
   "metadata": {},
   "outputs": [
    {
     "data": {
      "text/plain": [
       "'hello'"
      ]
     },
     "execution_count": 13,
     "metadata": {},
     "output_type": "execute_result"
    }
   ],
   "source": [
    "'hello'"
   ]
  },
  {
   "cell_type": "code",
   "execution_count": 15,
   "id": "a25b4846",
   "metadata": {},
   "outputs": [
    {
     "name": "stdout",
     "output_type": "stream",
     "text": [
      "this's good\n"
     ]
    }
   ],
   "source": [
    "str_val = \"this's good\"\n",
    "print(str_val)"
   ]
  },
  {
   "cell_type": "code",
   "execution_count": 17,
   "id": "56f3f3f2",
   "metadata": {},
   "outputs": [
    {
     "name": "stdout",
     "output_type": "stream",
     "text": [
      "11\n"
     ]
    }
   ],
   "source": [
    "str_length = len(str_val)\n",
    "print(str_length)"
   ]
  },
  {
   "cell_type": "code",
   "execution_count": 26,
   "id": "46b5f8d3",
   "metadata": {},
   "outputs": [
    {
     "name": "stdout",
     "output_type": "stream",
     "text": [
      "i\n",
      "d\n"
     ]
    }
   ],
   "source": [
    "index_char = str_val[2]\n",
    "print(index_char)\n",
    "# last character of the string\n",
    "last_char = str_val[-1]\n",
    "print(last_char)"
   ]
  },
  {
   "cell_type": "code",
   "execution_count": 18,
   "id": "83abb701",
   "metadata": {},
   "outputs": [
    {
     "name": "stdout",
     "output_type": "stream",
     "text": [
      "s's good\n"
     ]
    }
   ],
   "source": [
    "# slice of the string [start: stop: step]\n",
    "slice_str = str_val[3:]\n",
    "print(slice_str)"
   ]
  },
  {
   "cell_type": "code",
   "execution_count": 20,
   "id": "087a30e4",
   "metadata": {},
   "outputs": [
    {
     "name": "stdout",
     "output_type": "stream",
     "text": [
      "this\n"
     ]
    }
   ],
   "source": [
    "slice_str = str_val[:4]\n",
    "print(slice_str)"
   ]
  },
  {
   "cell_type": "code",
   "execution_count": 21,
   "id": "93f89969",
   "metadata": {},
   "outputs": [
    {
     "name": "stdout",
     "output_type": "stream",
     "text": [
      "his\n"
     ]
    }
   ],
   "source": [
    "slice_str = str_val[1:4]\n",
    "print(slice_str)"
   ]
  },
  {
   "cell_type": "code",
   "execution_count": 23,
   "id": "3725ab0e",
   "metadata": {},
   "outputs": [
    {
     "name": "stdout",
     "output_type": "stream",
     "text": [
      "ts o\n"
     ]
    }
   ],
   "source": [
    "# with a step of 3 characters\n",
    "slice_str = str_val[0::3]\n",
    "print(slice_str)"
   ]
  },
  {
   "cell_type": "code",
   "execution_count": 24,
   "id": "6f93895b",
   "metadata": {},
   "outputs": [
    {
     "name": "stdout",
     "output_type": "stream",
     "text": [
      "doog s'siht\n"
     ]
    }
   ],
   "source": [
    "rev_str_trick = str_val[::-1]\n",
    "print(rev_str_trick)"
   ]
  },
  {
   "cell_type": "code",
   "execution_count": 29,
   "id": "a1d6a680",
   "metadata": {},
   "outputs": [
    {
     "name": "stdout",
     "output_type": "stream",
     "text": [
      "HELLO WORLD\n",
      "hello world\n"
     ]
    }
   ],
   "source": [
    "val = 'Hello World'\n",
    "print(val.upper())\n",
    "print(val.lower())"
   ]
  },
  {
   "cell_type": "code",
   "execution_count": 33,
   "id": "b32cce19",
   "metadata": {},
   "outputs": [
    {
     "name": "stdout",
     "output_type": "stream",
     "text": [
      "Pam\n"
     ]
    }
   ],
   "source": [
    "# strings are imutable in python, need to assign it again to actually update it\n",
    "# sam to pam\n",
    "new_str = 'Sam'\n",
    "# new_str[0] = 'P' => throws error\n",
    "new_str = 'P'+new_str[1:]\n",
    "print(new_str)"
   ]
  },
  {
   "cell_type": "code",
   "execution_count": 41,
   "id": "1a014e2f",
   "metadata": {},
   "outputs": [
    {
     "name": "stdout",
     "output_type": "stream",
     "text": [
      "My name is Pam\n",
      "My name is Pam and my age is 12\n",
      "My name is Pam and my age is 12\n",
      "this number is      10.12\n"
     ]
    }
   ],
   "source": [
    "# format method\n",
    "print('My name is {}'.format(new_str))\n",
    "\n",
    "print('My name is {n} and my age is {a}'.format(a=12,n=new_str))\n",
    "\n",
    "# using arg index to define formatted text\n",
    "print('My name is {1} and my age is {0}'.format(12,new_str))\n",
    "\n",
    "# float formatting {number:width(whitespace).precision(f)}\n",
    "num = 10.1231231\n",
    "print('this number is {n:10.2f}'.format(n=num))"
   ]
  },
  {
   "cell_type": "code",
   "execution_count": 42,
   "id": "ae41e81b",
   "metadata": {},
   "outputs": [
    {
     "name": "stdout",
     "output_type": "stream",
     "text": [
      "My name is Pam\n"
     ]
    }
   ],
   "source": [
    "# string literals\n",
    "print(f'My name is {new_str}')"
   ]
  },
  {
   "cell_type": "markdown",
   "id": "7ae1e2be",
   "metadata": {},
   "source": [
    "## Lists"
   ]
  },
  {
   "cell_type": "code",
   "execution_count": 45,
   "id": "9ba11fc6",
   "metadata": {},
   "outputs": [
    {
     "name": "stdout",
     "output_type": "stream",
     "text": [
      "[1, 2, 3]\n",
      "length of string = 3\n"
     ]
    }
   ],
   "source": [
    "my_list = [1,2,3]\n",
    "print(my_list)\n",
    "len_list = len(my_list)\n",
    "print(f'length of string = {len_list}')"
   ]
  },
  {
   "cell_type": "code",
   "execution_count": 5,
   "id": "feb3f2d6",
   "metadata": {},
   "outputs": [
    {
     "name": "stdout",
     "output_type": "stream",
     "text": [
      "[3, 1, 5, 6, 8, 2, 4]\n"
     ]
    }
   ],
   "source": [
    "new_list = [3,1,5,6,8,2]\n",
    "new_list.append(4)\n",
    "print(new_list)"
   ]
  },
  {
   "cell_type": "code",
   "execution_count": 6,
   "id": "ec323cfd",
   "metadata": {},
   "outputs": [
    {
     "name": "stdout",
     "output_type": "stream",
     "text": [
      "[3, 1, 5, 6, 8, 2]\n",
      "[3, 1, 6, 8, 2]\n",
      "[1, 2, 3, 6, 8]\n"
     ]
    }
   ],
   "source": [
    "new_list.pop()\n",
    "print(new_list)\n",
    "new_list.pop(2)\n",
    "print(new_list)\n",
    "new_list.sort()\n",
    "print(new_list)"
   ]
  },
  {
   "cell_type": "code",
   "execution_count": 9,
   "id": "778a2c12",
   "metadata": {},
   "outputs": [
    {
     "name": "stdout",
     "output_type": "stream",
     "text": [
      "None\n",
      "[1, 2, 3, 6, 8]\n"
     ]
    }
   ],
   "source": [
    "copy_list = new_list.sort()\n",
    "print(copy_list)\n",
    "new_list.sort()\n",
    "copy_list = new_list\n",
    "print(copy_list)"
   ]
  },
  {
   "cell_type": "markdown",
   "id": "efae4627",
   "metadata": {},
   "source": [
    "## Dictionary"
   ]
  },
  {
   "cell_type": "code",
   "execution_count": 11,
   "id": "a09a44da",
   "metadata": {},
   "outputs": [
    {
     "name": "stdout",
     "output_type": "stream",
     "text": [
      "2\n"
     ]
    }
   ],
   "source": [
    "my_dict = {'k1':1,'k2':2}\n",
    "print(my_dict['k2'])"
   ]
  },
  {
   "cell_type": "code",
   "execution_count": 13,
   "id": "d32fe9ba",
   "metadata": {},
   "outputs": [
    {
     "name": "stdout",
     "output_type": "stream",
     "text": [
      "B\n"
     ]
    }
   ],
   "source": [
    "my_dict = {'k1':'a','k2':'b'}\n",
    "print(my_dict['k2'].upper())"
   ]
  },
  {
   "cell_type": "code",
   "execution_count": 18,
   "id": "e23912e5",
   "metadata": {},
   "outputs": [
    {
     "data": {
      "text/plain": [
       "dict_keys(['k1', 'k2', 'k3'])"
      ]
     },
     "execution_count": 18,
     "metadata": {},
     "output_type": "execute_result"
    }
   ],
   "source": [
    "my_dict['k3']=3\n",
    "my_dict.keys()"
   ]
  },
  {
   "cell_type": "code",
   "execution_count": 19,
   "id": "55b66a5c",
   "metadata": {},
   "outputs": [
    {
     "data": {
      "text/plain": [
       "dict_values(['a', 'b', 3])"
      ]
     },
     "execution_count": 19,
     "metadata": {},
     "output_type": "execute_result"
    }
   ],
   "source": [
    "my_dict.values()"
   ]
  },
  {
   "cell_type": "code",
   "execution_count": 20,
   "id": "e060c6da",
   "metadata": {},
   "outputs": [
    {
     "data": {
      "text/plain": [
       "dict_items([('k1', 'a'), ('k2', 'b'), ('k3', 3)])"
      ]
     },
     "execution_count": 20,
     "metadata": {},
     "output_type": "execute_result"
    }
   ],
   "source": [
    "# returns a tuple\n",
    "my_dict.items()"
   ]
  },
  {
   "cell_type": "markdown",
   "id": "1034381b",
   "metadata": {},
   "source": [
    "## Tuples (immutable)"
   ]
  },
  {
   "cell_type": "code",
   "execution_count": 28,
   "id": "867c6deb",
   "metadata": {},
   "outputs": [
    {
     "name": "stdout",
     "output_type": "stream",
     "text": [
      "<class 'tuple'>\n",
      "<class 'list'>\n"
     ]
    }
   ],
   "source": [
    "_tuple = (1,1,2,3)\n",
    "_list = [1,2,3]\n",
    "print(type(_tuple))\n",
    "print(type(_list))"
   ]
  },
  {
   "cell_type": "code",
   "execution_count": 27,
   "id": "1aa7d1d0",
   "metadata": {},
   "outputs": [],
   "source": [
    "# _tuple[0] = 2 => throws type error"
   ]
  },
  {
   "cell_type": "markdown",
   "id": "d6306b89",
   "metadata": {},
   "source": [
    "## Sets (unique items)"
   ]
  },
  {
   "cell_type": "code",
   "execution_count": 30,
   "id": "ea7ab2f9",
   "metadata": {},
   "outputs": [
    {
     "data": {
      "text/plain": [
       "{1, 2}"
      ]
     },
     "execution_count": 30,
     "metadata": {},
     "output_type": "execute_result"
    }
   ],
   "source": [
    "my_set = set()\n",
    "my_set.add(1)\n",
    "my_set.add(2)\n",
    "my_set.add(1)\n",
    "my_set"
   ]
  },
  {
   "cell_type": "code",
   "execution_count": 31,
   "id": "8ee6793e",
   "metadata": {},
   "outputs": [
    {
     "data": {
      "text/plain": [
       "{1, 2, 3, 5, 6, 8}"
      ]
     },
     "execution_count": 31,
     "metadata": {},
     "output_type": "execute_result"
    }
   ],
   "source": [
    "new_list = [1,2,3,2,3,2,3,1,5,6,8,2]\n",
    "set(new_list)"
   ]
  },
  {
   "cell_type": "code",
   "execution_count": 34,
   "id": "80fc8cb8",
   "metadata": {},
   "outputs": [
    {
     "data": {
      "text/plain": [
       "{'M', 'i', 'p', 's'}"
      ]
     },
     "execution_count": 34,
     "metadata": {},
     "output_type": "execute_result"
    }
   ],
   "source": [
    "set(list('Mississippi'))"
   ]
  },
  {
   "cell_type": "code",
   "execution_count": null,
   "id": "2bd911bb",
   "metadata": {},
   "outputs": [],
   "source": []
  }
 ],
 "metadata": {
  "kernelspec": {
   "display_name": "Python 3",
   "language": "python",
   "name": "python3"
  },
  "language_info": {
   "codemirror_mode": {
    "name": "ipython",
    "version": 3
   },
   "file_extension": ".py",
   "mimetype": "text/x-python",
   "name": "python",
   "nbconvert_exporter": "python",
   "pygments_lexer": "ipython3",
   "version": "3.8.8"
  }
 },
 "nbformat": 4,
 "nbformat_minor": 5
}
