{
 "cells": [
  {
   "cell_type": "markdown",
   "id": "22f32f77",
   "metadata": {},
   "source": [
    "## Numbers"
   ]
  },
  {
   "cell_type": "code",
   "execution_count": 5,
   "id": "2bfc6eea",
   "metadata": {},
   "outputs": [],
   "source": [
    "var_name = 2+1"
   ]
  },
  {
   "cell_type": "code",
   "execution_count": 7,
   "id": "c052501c",
   "metadata": {},
   "outputs": [
    {
     "name": "stdout",
     "output_type": "stream",
     "text": [
      "3\n"
     ]
    }
   ],
   "source": [
    "print(var_name)"
   ]
  },
  {
   "cell_type": "code",
   "execution_count": 6,
   "id": "89dedefd",
   "metadata": {},
   "outputs": [
    {
     "data": {
      "text/plain": [
       "int"
      ]
     },
     "execution_count": 6,
     "metadata": {},
     "output_type": "execute_result"
    }
   ],
   "source": [
    "type(var_name)"
   ]
  },
  {
   "cell_type": "markdown",
   "id": "b5c39926",
   "metadata": {},
   "source": [
    "reassigning vairables and checking type again"
   ]
  },
  {
   "cell_type": "code",
   "execution_count": 8,
   "id": "bcf3e93b",
   "metadata": {},
   "outputs": [],
   "source": [
    "var_name = 2+1.1"
   ]
  },
  {
   "cell_type": "code",
   "execution_count": 9,
   "id": "e0b2f97e",
   "metadata": {},
   "outputs": [
    {
     "name": "stdout",
     "output_type": "stream",
     "text": [
      "3.1\n"
     ]
    }
   ],
   "source": [
    "print(var_name)"
   ]
  },
  {
   "cell_type": "code",
   "execution_count": 10,
   "id": "c21bdf57",
   "metadata": {},
   "outputs": [
    {
     "data": {
      "text/plain": [
       "float"
      ]
     },
     "execution_count": 10,
     "metadata": {},
     "output_type": "execute_result"
    }
   ],
   "source": [
    "type(var_name)"
   ]
  },
  {
   "cell_type": "code",
   "execution_count": 11,
   "id": "607d230a",
   "metadata": {},
   "outputs": [
    {
     "name": "stdout",
     "output_type": "stream",
     "text": [
      "10.0\n"
     ]
    }
   ],
   "source": [
    "my_income = 100\n",
    "tax_rate = .10\n",
    "my_taxes = my_income * tax_rate\n",
    "print(my_taxes)"
   ]
  },
  {
   "cell_type": "markdown",
   "id": "f368a082",
   "metadata": {},
   "source": [
    "## Strings"
   ]
  },
  {
   "cell_type": "code",
   "execution_count": 12,
   "id": "e2634ecb",
   "metadata": {},
   "outputs": [
    {
     "data": {
      "text/plain": [
       "'hello'"
      ]
     },
     "execution_count": 12,
     "metadata": {},
     "output_type": "execute_result"
    }
   ],
   "source": [
    "\"hello\""
   ]
  },
  {
   "cell_type": "code",
   "execution_count": 13,
   "id": "54cd8aed",
   "metadata": {},
   "outputs": [
    {
     "data": {
      "text/plain": [
       "'hello'"
      ]
     },
     "execution_count": 13,
     "metadata": {},
     "output_type": "execute_result"
    }
   ],
   "source": [
    "'hello'"
   ]
  },
  {
   "cell_type": "code",
   "execution_count": 15,
   "id": "da07052c",
   "metadata": {},
   "outputs": [
    {
     "name": "stdout",
     "output_type": "stream",
     "text": [
      "this's good\n"
     ]
    }
   ],
   "source": [
    "str_val = \"this's good\"\n",
    "print(str_val)"
   ]
  },
  {
   "cell_type": "code",
   "execution_count": 17,
   "id": "9767498c",
   "metadata": {},
   "outputs": [
    {
     "name": "stdout",
     "output_type": "stream",
     "text": [
      "11\n"
     ]
    }
   ],
   "source": [
    "str_length = len(str_val)\n",
    "print(str_length)"
   ]
  },
  {
   "cell_type": "code",
   "execution_count": 26,
   "id": "52a34eea",
   "metadata": {},
   "outputs": [
    {
     "name": "stdout",
     "output_type": "stream",
     "text": [
      "i\n",
      "d\n"
     ]
    }
   ],
   "source": [
    "index_char = str_val[2]\n",
    "print(index_char)\n",
    "# last character of the string\n",
    "last_char = str_val[-1]\n",
    "print(last_char)"
   ]
  },
  {
   "cell_type": "code",
   "execution_count": 18,
   "id": "0dd1b665",
   "metadata": {},
   "outputs": [
    {
     "name": "stdout",
     "output_type": "stream",
     "text": [
      "s's good\n"
     ]
    }
   ],
   "source": [
    "# slice of the string [start: stop: step]\n",
    "slice_str = str_val[3:]\n",
    "print(slice_str)"
   ]
  },
  {
   "cell_type": "code",
   "execution_count": 20,
   "id": "32e06aba",
   "metadata": {},
   "outputs": [
    {
     "name": "stdout",
     "output_type": "stream",
     "text": [
      "this\n"
     ]
    }
   ],
   "source": [
    "slice_str = str_val[:4]\n",
    "print(slice_str)"
   ]
  },
  {
   "cell_type": "code",
   "execution_count": 21,
   "id": "f267e7c7",
   "metadata": {},
   "outputs": [
    {
     "name": "stdout",
     "output_type": "stream",
     "text": [
      "his\n"
     ]
    }
   ],
   "source": [
    "slice_str = str_val[1:4]\n",
    "print(slice_str)"
   ]
  },
  {
   "cell_type": "code",
   "execution_count": 23,
   "id": "647839a7",
   "metadata": {},
   "outputs": [
    {
     "name": "stdout",
     "output_type": "stream",
     "text": [
      "ts o\n"
     ]
    }
   ],
   "source": [
    "# with a step of 3 characters\n",
    "slice_str = str_val[0::3]\n",
    "print(slice_str)"
   ]
  },
  {
   "cell_type": "code",
   "execution_count": 24,
   "id": "1b369e88",
   "metadata": {},
   "outputs": [
    {
     "name": "stdout",
     "output_type": "stream",
     "text": [
      "doog s'siht\n"
     ]
    }
   ],
   "source": [
    "rev_str_trick = str_val[::-1]\n",
    "print(rev_str_trick)"
   ]
  },
  {
   "cell_type": "code",
   "execution_count": 29,
   "id": "07791a89",
   "metadata": {},
   "outputs": [
    {
     "name": "stdout",
     "output_type": "stream",
     "text": [
      "HELLO WORLD\n",
      "hello world\n"
     ]
    }
   ],
   "source": [
    "val = 'Hello World'\n",
    "print(val.upper())\n",
    "print(val.lower())"
   ]
  },
  {
   "cell_type": "code",
   "execution_count": 33,
   "id": "7fc00c50",
   "metadata": {},
   "outputs": [
    {
     "name": "stdout",
     "output_type": "stream",
     "text": [
      "Pam\n"
     ]
    }
   ],
   "source": [
    "# strings are imutable in python, need to assign it again to actually update it\n",
    "# sam to pam\n",
    "new_str = 'Sam'\n",
    "# new_str[0] = 'P' => throws error\n",
    "new_str = 'P'+new_str[1:]\n",
    "print(new_str)"
   ]
  },
  {
   "cell_type": "code",
   "execution_count": 41,
   "id": "a538113e",
   "metadata": {},
   "outputs": [
    {
     "name": "stdout",
     "output_type": "stream",
     "text": [
      "My name is Pam\n",
      "My name is Pam and my age is 12\n",
      "My name is Pam and my age is 12\n",
      "this number is      10.12\n"
     ]
    }
   ],
   "source": [
    "# format method\n",
    "print('My name is {}'.format(new_str))\n",
    "\n",
    "print('My name is {n} and my age is {a}'.format(a=12,n=new_str))\n",
    "\n",
    "# using arg index to define formatted text\n",
    "print('My name is {1} and my age is {0}'.format(12,new_str))\n",
    "\n",
    "# float formatting {number:width(whitespace).precision(f)}\n",
    "num = 10.1231231\n",
    "print('this number is {n:10.2f}'.format(n=num))"
   ]
  },
  {
   "cell_type": "code",
   "execution_count": 42,
   "id": "0dcfd532",
   "metadata": {},
   "outputs": [
    {
     "name": "stdout",
     "output_type": "stream",
     "text": [
      "My name is Pam\n"
     ]
    }
   ],
   "source": [
    "# string literals\n",
    "print(f'My name is {new_str}')"
   ]
  },
  {
   "cell_type": "code",
   "execution_count": null,
   "id": "ddaa0f43",
   "metadata": {},
   "outputs": [],
   "source": []
  }
 ],
 "metadata": {
  "kernelspec": {
   "display_name": "Python 3",
   "language": "python",
   "name": "python3"
  },
  "language_info": {
   "codemirror_mode": {
    "name": "ipython",
    "version": 3
   },
   "file_extension": ".py",
   "mimetype": "text/x-python",
   "name": "python",
   "nbconvert_exporter": "python",
   "pygments_lexer": "ipython3",
   "version": "3.8.8"
  }
 },
 "nbformat": 4,
 "nbformat_minor": 5
}
