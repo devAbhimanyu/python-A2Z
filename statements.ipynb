{
 "cells": [
  {
   "cell_type": "markdown",
   "id": "f9065f6f",
   "metadata": {},
   "source": [
    "## Conditional"
   ]
  },
  {
   "cell_type": "code",
   "execution_count": 3,
   "id": "397a06e4",
   "metadata": {},
   "outputs": [
    {
     "name": "stdout",
     "output_type": "stream",
     "text": [
      "a is 4\n"
     ]
    }
   ],
   "source": [
    "a = 4\n",
    "if a==3:\n",
    "    print(a)\n",
    "elif a==4:\n",
    "    print('a is 4')\n",
    "else:\n",
    "    print('not true')"
   ]
  },
  {
   "cell_type": "markdown",
   "id": "3d9c6e7a",
   "metadata": {},
   "source": [
    "## loops"
   ]
  },
  {
   "cell_type": "code",
   "execution_count": 4,
   "id": "c41c8869",
   "metadata": {},
   "outputs": [],
   "source": [
    "# for\n",
    "my_list = [1,2,3,4,5,6,7,8,9]\n"
   ]
  },
  {
   "cell_type": "code",
   "execution_count": 5,
   "id": "2e6c47be",
   "metadata": {},
   "outputs": [
    {
     "name": "stdout",
     "output_type": "stream",
     "text": [
      "the number is 1\n",
      "the number is 2\n",
      "the number is 3\n",
      "the number is 4\n",
      "the number is 5\n",
      "the number is 6\n",
      "the number is 7\n",
      "the number is 8\n",
      "the number is 9\n"
     ]
    }
   ],
   "source": [
    "for num in my_list:\n",
    "    print(f'the number is {num}')"
   ]
  },
  {
   "cell_type": "code",
   "execution_count": 9,
   "id": "79368e85",
   "metadata": {},
   "outputs": [
    {
     "name": "stdout",
     "output_type": "stream",
     "text": [
      "do something\n",
      "do something\n",
      "do something\n",
      "do something\n",
      "do something\n",
      "do something\n",
      "do something\n",
      "do something\n",
      "do something\n",
      "do something\n"
     ]
    }
   ],
   "source": [
    "arr = [0]*10\n",
    "len(arr)\n",
    "for _ in arr:\n",
    "    print('do something')"
   ]
  },
  {
   "cell_type": "code",
   "execution_count": 8,
   "id": "57ab3a83",
   "metadata": {},
   "outputs": [
    {
     "name": "stdout",
     "output_type": "stream",
     "text": [
      "1 is odd\n",
      "2 is even\n",
      "3 is odd\n",
      "4 is even\n",
      "5 is odd\n",
      "6 is even\n",
      "7 is odd\n",
      "8 is even\n",
      "9 is odd\n"
     ]
    }
   ],
   "source": [
    "# check for even numbers\n",
    "for num in my_list:\n",
    "    if num%2 == 0:\n",
    "        print(f'{num} is even')\n",
    "    else:\n",
    "        print(f'{num} is odd')"
   ]
  },
  {
   "cell_type": "code",
   "execution_count": 11,
   "id": "9c71e056",
   "metadata": {},
   "outputs": [
    {
     "name": "stdout",
     "output_type": "stream",
     "text": [
      "1\n",
      "2\n",
      "3\n"
     ]
    }
   ],
   "source": [
    "#tuple\n",
    "tup=(1,2,3)\n",
    "for item in tup:\n",
    "    print(item)"
   ]
  },
  {
   "cell_type": "code",
   "execution_count": 13,
   "id": "ad9f7c02",
   "metadata": {},
   "outputs": [
    {
     "name": "stdout",
     "output_type": "stream",
     "text": [
      "first val is 1, second val is 2\n",
      "first val is 3, second val is 4\n",
      "first val is 5, second val is 6\n"
     ]
    }
   ],
   "source": [
    "# tuple upacking\n",
    "tup_list =[(1,2),(3,4),(5,6)]\n",
    "\n",
    "for a,b in tup_list:\n",
    "    print(f'first val is {a}, second val is {b}' )\n"
   ]
  },
  {
   "cell_type": "code",
   "execution_count": 17,
   "id": "b32d8e91",
   "metadata": {},
   "outputs": [
    {
     "name": "stdout",
     "output_type": "stream",
     "text": [
      "value is a\n",
      "value is b\n",
      "key is k1, value is a\n",
      "key is k2, value is b\n"
     ]
    }
   ],
   "source": [
    "# dictionary\n",
    "my_dict = {'k1':'a','k2':'b'}\n",
    "\n",
    "for value in my_dict.values():\n",
    "    print(f'value is {value}')\n",
    "    \n",
    "for key,value in my_dict.items():\n",
    "    print(f'key is {key}, value is {value}')"
   ]
  },
  {
   "cell_type": "code",
   "execution_count": 19,
   "id": "85b7f384",
   "metadata": {},
   "outputs": [
    {
     "name": "stdout",
     "output_type": "stream",
     "text": [
      "x is 0\n",
      "x is 1\n",
      "x is 2\n",
      "x is 3\n",
      "x is 4\n",
      "x is 5 when it go got out\n"
     ]
    }
   ],
   "source": [
    "x=0\n",
    "while x<5:\n",
    "    print(f'x is {x}')\n",
    "    x=x+1\n",
    "else:\n",
    "    print(f'x is {x} when it go got out')"
   ]
  },
  {
   "cell_type": "code",
   "execution_count": 20,
   "id": "48380bd8",
   "metadata": {},
   "outputs": [],
   "source": [
    "x=[1,2,3]\n",
    "for item in x:\n",
    "    pass # used as a placeholder\n"
   ]
  },
  {
   "cell_type": "code",
   "execution_count": 21,
   "id": "2a172b60",
   "metadata": {},
   "outputs": [
    {
     "name": "stdout",
     "output_type": "stream",
     "text": [
      "0\n",
      "2\n",
      "4\n",
      "6\n",
      "8\n"
     ]
    }
   ],
   "source": [
    "# range\n",
    "for item in range(0,10,2):\n",
    "    print(item)"
   ]
  },
  {
   "cell_type": "code",
   "execution_count": 22,
   "id": "79f99d19",
   "metadata": {},
   "outputs": [
    {
     "name": "stdout",
     "output_type": "stream",
     "text": [
      "a is 0 and b is w \n",
      "a is 1 and b is o \n",
      "a is 2 and b is r \n",
      "a is 3 and b is d \n"
     ]
    }
   ],
   "source": [
    "# enumerate\n",
    "for a,b in enumerate('word'):\n",
    "    print(f'a is {a} and b is {b} ')"
   ]
  },
  {
   "cell_type": "code",
   "execution_count": 23,
   "id": "032fcad3",
   "metadata": {},
   "outputs": [
    {
     "name": "stdout",
     "output_type": "stream",
     "text": [
      "(1, 'a')\n",
      "(2, 'b')\n",
      "(3, 'c')\n"
     ]
    }
   ],
   "source": [
    "# zip\n",
    "l1=[1,2,3]\n",
    "l2=['a','b','c']\n",
    "\n",
    "for item in zip(l1,l2):\n",
    "    print(item)"
   ]
  },
  {
   "cell_type": "code",
   "execution_count": 24,
   "id": "9597d3ca",
   "metadata": {},
   "outputs": [
    {
     "data": {
      "text/plain": [
       "[(1, 'a'), (2, 'b'), (3, 'c')]"
      ]
     },
     "execution_count": 24,
     "metadata": {},
     "output_type": "execute_result"
    }
   ],
   "source": [
    "list(zip(l1,l2))"
   ]
  },
  {
   "cell_type": "code",
   "execution_count": 28,
   "id": "1817d4c5",
   "metadata": {},
   "outputs": [
    {
     "data": {
      "text/plain": [
       "True"
      ]
     },
     "execution_count": 28,
     "metadata": {},
     "output_type": "execute_result"
    }
   ],
   "source": [
    "'x' in [1,2,3] #false\n",
    "2 in [1,2,3] #true"
   ]
  },
  {
   "cell_type": "code",
   "execution_count": 30,
   "id": "f9913e6e",
   "metadata": {},
   "outputs": [
    {
     "name": "stdout",
     "output_type": "stream",
     "text": [
      "[3, 4, 7, 6, 9, 8, 1, 2, 5]\n"
     ]
    }
   ],
   "source": [
    "from random import shuffle\n",
    "my_list = [1,2,3,4,5,6,7,8,9]\n",
    "shuffle(my_list)\n",
    "print(my_list)"
   ]
  },
  {
   "cell_type": "code",
   "execution_count": 31,
   "id": "e8e55d1c",
   "metadata": {},
   "outputs": [
    {
     "name": "stdout",
     "output_type": "stream",
     "text": [
      "['t', 'h', 'i', 's', ' ', 's', 't', 'r', 'i', 'n', 'g']\n"
     ]
    }
   ],
   "source": [
    "# list comprehensioin\n",
    "new_list = [letter for letter in 'this string']\n",
    "print(new_list)"
   ]
  },
  {
   "cell_type": "code",
   "execution_count": 33,
   "id": "7341cb74",
   "metadata": {},
   "outputs": [
    {
     "name": "stdout",
     "output_type": "stream",
     "text": [
      "[33.8, 50.0, 68.0, 93.2, 89.6]\n"
     ]
    }
   ],
   "source": [
    "cel =[1,10,20,34,32]\n",
    "fah = [((9/5)*temp + 32) for temp in cel]\n",
    "print(fah)"
   ]
  },
  {
   "cell_type": "code",
   "execution_count": 34,
   "id": "b23c78d6",
   "metadata": {},
   "outputs": [
    {
     "name": "stdout",
     "output_type": "stream",
     "text": [
      "[2, 4, 6, 8, 10, 12, 14, 16, 18]\n"
     ]
    }
   ],
   "source": [
    "my_list = [1,2,3,4,5,6,7,8,9]\n",
    "into_two = [n*2 for n in my_list]\n",
    "print(into_two)"
   ]
  },
  {
   "cell_type": "code",
   "execution_count": null,
   "id": "fdcc7c5b",
   "metadata": {},
   "outputs": [],
   "source": []
  }
 ],
 "metadata": {
  "kernelspec": {
   "display_name": "Python 3",
   "language": "python",
   "name": "python3"
  },
  "language_info": {
   "codemirror_mode": {
    "name": "ipython",
    "version": 3
   },
   "file_extension": ".py",
   "mimetype": "text/x-python",
   "name": "python",
   "nbconvert_exporter": "python",
   "pygments_lexer": "ipython3",
   "version": "3.8.8"
  }
 },
 "nbformat": 4,
 "nbformat_minor": 5
}
